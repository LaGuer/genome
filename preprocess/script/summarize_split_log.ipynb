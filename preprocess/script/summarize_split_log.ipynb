{
 "cells": [
  {
   "cell_type": "code",
   "execution_count": 1,
   "metadata": {
    "collapsed": true
   },
   "outputs": [],
   "source": [
    "import pandas as pd"
   ]
  },
  {
   "cell_type": "code",
   "execution_count": 5,
   "metadata": {
    "collapsed": false
   },
   "outputs": [
    {
     "name": "stdout",
     "output_type": "stream",
     "text": [
      "ftp_basename:GCF_000294775.2_ASM29477v2\n",
      "dna_type:chromosome\n",
      "filepath:/home/mitsuki/out/altorf/genome/fasta/GCF_000294775.2_ASM29477v2_chromosome.fna\n",
      "num_of_seqs:1\n",
      "length_of_seqs:5461741\n",
      "ftp_basename:GCF_000294775.2_ASM29477v2\n",
      "dna_type:plasmid\n",
      "filepath:/home/mitsuki/out/altorf/genome/fasta/GCF_000294775.2_ASM29477v2_plasmid.fna\n",
      "num_of_seqs:1\n",
      "length_of_seqs:386866\n"
     ]
    }
   ],
   "source": [
    "filename=\"/home/mitsuki/out/altorf/genome/preprocess/split/GCF_000294775.2_ASM29477v2_split.log\"\n",
    "\n",
    "columns=[\"ftp_basename\",\"dna_type\",\"filepath\",\"num_of_seqs\",\"length_of_seqs\"]\n",
    "with open(filename,'r') as f:\n",
    "    for line in f:\n",
    "        line_splitted=line.strip().split(',')\n",
    "        assert len(line_splitted)==len(columns)\n",
    "        for i,column in enumerate(columns):\n",
    "            print(column+\":\"+line_splitted[i])"
   ]
  },
  {
   "cell_type": "code",
   "execution_count": 15,
   "metadata": {
    "collapsed": false
   },
   "outputs": [],
   "source": [
    "catalogDf=pd.read_csv(\"/home/mitsuki/altorf/genome/speciespick/picked_assembly_summary.csv\")\n",
    "\n",
    "dct_lst=[]\n",
    "basedir=\"/home/mitsuki/out/altorf/genome/preprocess/split/\"\n",
    "for basename in catalogDf[\"ftp_basename\"]:\n",
    "    filepath=basedir+basename+\"_split.log\"\n",
    "    columns=[\"ftp_basename\",\"dna_type\",\"filepath\",\"num_of_seqs\",\"length_of_seqs\"]\n",
    "    with open(filepath,'r') as f:\n",
    "        for line in f:\n",
    "            dct={}\n",
    "            line_splitted=line.strip().split(',')\n",
    "            assert len(line_splitted)==len(columns)\n",
    "            for i,column in enumerate(columns):\n",
    "                dct[column]=line_splitted[i]\n",
    "            dct_lst.append(dct)"
   ]
  },
  {
   "cell_type": "code",
   "execution_count": 16,
   "metadata": {
    "collapsed": false
   },
   "outputs": [],
   "source": [
    "summaryDf=pd.DataFrame(dct_lst)\n",
    "summaryDf.to_csv(\"summary_split.csv\",index=False)"
   ]
  },
  {
   "cell_type": "code",
   "execution_count": 8,
   "metadata": {
    "collapsed": false
   },
   "outputs": [
    {
     "data": {
      "text/plain": [
       "['asm_name',\n",
       " 'assembly_accession',\n",
       " 'domain',\n",
       " 'ftp_basename',\n",
       " 'ftp_path',\n",
       " 'organism_name',\n",
       " 'taxid']"
      ]
     },
     "execution_count": 8,
     "metadata": {},
     "output_type": "execute_result"
    }
   ],
   "source": [
    "line_splitted"
   ]
  },
  {
   "cell_type": "code",
   "execution_count": null,
   "metadata": {
    "collapsed": true
   },
   "outputs": [],
   "source": []
  }
 ],
 "metadata": {
  "anaconda-cloud": {},
  "kernelspec": {
   "display_name": "Python [conda root]",
   "language": "python",
   "name": "conda-root-py"
  },
  "language_info": {
   "codemirror_mode": {
    "name": "ipython",
    "version": 3
   },
   "file_extension": ".py",
   "mimetype": "text/x-python",
   "name": "python",
   "nbconvert_exporter": "python",
   "pygments_lexer": "ipython3",
   "version": "3.5.2"
  }
 },
 "nbformat": 4,
 "nbformat_minor": 1
}
