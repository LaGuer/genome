{
 "cells": [
  {
   "cell_type": "code",
   "execution_count": 17,
   "metadata": {
    "collapsed": true
   },
   "outputs": [],
   "source": [
    "import pandas as pd\n",
    "import matplotlib.pyplot as plt\n",
    "import seaborn as sns\n",
    "\n",
    "%matplotlib inline"
   ]
  },
  {
   "cell_type": "code",
   "execution_count": 2,
   "metadata": {
    "collapsed": false
   },
   "outputs": [
    {
     "name": "stdout",
     "output_type": "stream",
     "text": [
      "(64600, 9)\n"
     ]
    },
    {
     "data": {
      "text/html": [
       "<div>\n",
       "<table border=\"1\" class=\"dataframe\">\n",
       "  <thead>\n",
       "    <tr style=\"text-align: right;\">\n",
       "      <th></th>\n",
       "      <th>ftp_basename</th>\n",
       "      <th>seq_type</th>\n",
       "      <th>thres</th>\n",
       "      <th>+1</th>\n",
       "      <th>+2</th>\n",
       "      <th>+3</th>\n",
       "      <th>-1</th>\n",
       "      <th>-2</th>\n",
       "      <th>-3</th>\n",
       "    </tr>\n",
       "  </thead>\n",
       "  <tbody>\n",
       "    <tr>\n",
       "      <th>0</th>\n",
       "      <td>GCF_000022385.1_ASM2238v1</td>\n",
       "      <td>real</td>\n",
       "      <td>50</td>\n",
       "      <td>2327052</td>\n",
       "      <td>848004</td>\n",
       "      <td>1018122</td>\n",
       "      <td>1425243</td>\n",
       "      <td>1432585</td>\n",
       "      <td>2007550</td>\n",
       "    </tr>\n",
       "    <tr>\n",
       "      <th>1</th>\n",
       "      <td>GCF_000022385.1_ASM2238v1</td>\n",
       "      <td>real</td>\n",
       "      <td>100</td>\n",
       "      <td>2326662</td>\n",
       "      <td>190040</td>\n",
       "      <td>323132</td>\n",
       "      <td>603018</td>\n",
       "      <td>594940</td>\n",
       "      <td>1451209</td>\n",
       "    </tr>\n",
       "    <tr>\n",
       "      <th>2</th>\n",
       "      <td>GCF_000022385.1_ASM2238v1</td>\n",
       "      <td>real</td>\n",
       "      <td>150</td>\n",
       "      <td>2326326</td>\n",
       "      <td>53848</td>\n",
       "      <td>132495</td>\n",
       "      <td>252561</td>\n",
       "      <td>236458</td>\n",
       "      <td>1007576</td>\n",
       "    </tr>\n",
       "    <tr>\n",
       "      <th>3</th>\n",
       "      <td>GCF_000022385.1_ASM2238v1</td>\n",
       "      <td>real</td>\n",
       "      <td>200</td>\n",
       "      <td>2316294</td>\n",
       "      <td>27141</td>\n",
       "      <td>60577</td>\n",
       "      <td>105447</td>\n",
       "      <td>89945</td>\n",
       "      <td>635573</td>\n",
       "    </tr>\n",
       "    <tr>\n",
       "      <th>4</th>\n",
       "      <td>GCF_000022385.1_ASM2238v1</td>\n",
       "      <td>real</td>\n",
       "      <td>250</td>\n",
       "      <td>2291361</td>\n",
       "      <td>18208</td>\n",
       "      <td>34189</td>\n",
       "      <td>45630</td>\n",
       "      <td>31958</td>\n",
       "      <td>379303</td>\n",
       "    </tr>\n",
       "  </tbody>\n",
       "</table>\n",
       "</div>"
      ],
      "text/plain": [
       "                ftp_basename seq_type  thres       +1      +2       +3  \\\n",
       "0  GCF_000022385.1_ASM2238v1     real     50  2327052  848004  1018122   \n",
       "1  GCF_000022385.1_ASM2238v1     real    100  2326662  190040   323132   \n",
       "2  GCF_000022385.1_ASM2238v1     real    150  2326326   53848   132495   \n",
       "3  GCF_000022385.1_ASM2238v1     real    200  2316294   27141    60577   \n",
       "4  GCF_000022385.1_ASM2238v1     real    250  2291361   18208    34189   \n",
       "\n",
       "        -1       -2       -3  \n",
       "0  1425243  1432585  2007550  \n",
       "1   603018   594940  1451209  \n",
       "2   252561   236458  1007576  \n",
       "3   105447    89945   635573  \n",
       "4    45630    31958   379303  "
      ]
     },
     "execution_count": 2,
     "metadata": {},
     "output_type": "execute_result"
    }
   ],
   "source": [
    "relativeFilepath=\"/Users/mitsuki/rsyncdir/files/summary_relative.csv\"\n",
    "relative_df=pd.read_csv(relativeFilepath)\n",
    "print(relative_df.shape)\n",
    "relative_df.head()"
   ]
  },
  {
   "cell_type": "code",
   "execution_count": 3,
   "metadata": {
    "collapsed": false
   },
   "outputs": [
    {
     "name": "stdout",
     "output_type": "stream",
     "text": [
      "(1689, 7)\n"
     ]
    },
    {
     "data": {
      "text/html": [
       "<div>\n",
       "<table border=\"1\" class=\"dataframe\">\n",
       "  <thead>\n",
       "    <tr style=\"text-align: right;\">\n",
       "      <th></th>\n",
       "      <th>ftp_basename</th>\n",
       "      <th>seq_name</th>\n",
       "      <th>num_cds</th>\n",
       "      <th>num_typical</th>\n",
       "      <th>seq_length</th>\n",
       "      <th>cds_length</th>\n",
       "      <th>typical_length</th>\n",
       "    </tr>\n",
       "  </thead>\n",
       "  <tbody>\n",
       "    <tr>\n",
       "      <th>0</th>\n",
       "      <td>GCF_000022385.1_ASM2238v1</td>\n",
       "      <td>NC_012589.1</td>\n",
       "      <td>2912</td>\n",
       "      <td>2812</td>\n",
       "      <td>2736272</td>\n",
       "      <td>2407159</td>\n",
       "      <td>2327943</td>\n",
       "    </tr>\n",
       "    <tr>\n",
       "      <th>1</th>\n",
       "      <td>GCF_000970085.1_ASM97008v1</td>\n",
       "      <td>NZ_CP009506.1</td>\n",
       "      <td>4130</td>\n",
       "      <td>4060</td>\n",
       "      <td>5017558</td>\n",
       "      <td>3809558</td>\n",
       "      <td>3741741</td>\n",
       "    </tr>\n",
       "    <tr>\n",
       "      <th>2</th>\n",
       "      <td>GCF_000007345.1_ASM734v1</td>\n",
       "      <td>NC_003552.1</td>\n",
       "      <td>4790</td>\n",
       "      <td>4713</td>\n",
       "      <td>5751492</td>\n",
       "      <td>4306220</td>\n",
       "      <td>4239645</td>\n",
       "    </tr>\n",
       "    <tr>\n",
       "      <th>3</th>\n",
       "      <td>GCF_000350305.1_ASM35030v1</td>\n",
       "      <td>NC_020892.1</td>\n",
       "      <td>1473</td>\n",
       "      <td>1473</td>\n",
       "      <td>1461105</td>\n",
       "      <td>1330383</td>\n",
       "      <td>1330383</td>\n",
       "    </tr>\n",
       "    <tr>\n",
       "      <th>4</th>\n",
       "      <td>GCF_000969905.1_ASM96990v1</td>\n",
       "      <td>NZ_CP009520.1</td>\n",
       "      <td>3607</td>\n",
       "      <td>3569</td>\n",
       "      <td>4505752</td>\n",
       "      <td>3250767</td>\n",
       "      <td>3211890</td>\n",
       "    </tr>\n",
       "  </tbody>\n",
       "</table>\n",
       "</div>"
      ],
      "text/plain": [
       "                 ftp_basename       seq_name  num_cds  num_typical  \\\n",
       "0   GCF_000022385.1_ASM2238v1    NC_012589.1     2912         2812   \n",
       "1  GCF_000970085.1_ASM97008v1  NZ_CP009506.1     4130         4060   \n",
       "2    GCF_000007345.1_ASM734v1    NC_003552.1     4790         4713   \n",
       "3  GCF_000350305.1_ASM35030v1    NC_020892.1     1473         1473   \n",
       "4  GCF_000969905.1_ASM96990v1  NZ_CP009520.1     3607         3569   \n",
       "\n",
       "   seq_length  cds_length  typical_length  \n",
       "0     2736272     2407159         2327943  \n",
       "1     5017558     3809558         3741741  \n",
       "2     5751492     4306220         4239645  \n",
       "3     1461105     1330383         1330383  \n",
       "4     4505752     3250767         3211890  "
      ]
     },
     "execution_count": 3,
     "metadata": {},
     "output_type": "execute_result"
    }
   ],
   "source": [
    "annFilepath=\"/Users/mitsuki/rsyncdir/files/annotation_summary.csv\"\n",
    "ann_df=pd.read_csv(annFilepath)\n",
    "print(ann_df.shape)\n",
    "ann_df.head()"
   ]
  },
  {
   "cell_type": "code",
   "execution_count": 4,
   "metadata": {
    "collapsed": false
   },
   "outputs": [
    {
     "name": "stdout",
     "output_type": "stream",
     "text": [
      "(1615, 2)\n"
     ]
    },
    {
     "data": {
      "text/html": [
       "<div>\n",
       "<table border=\"1\" class=\"dataframe\">\n",
       "  <thead>\n",
       "    <tr style=\"text-align: right;\">\n",
       "      <th></th>\n",
       "      <th>ftp_basename</th>\n",
       "      <th>typical_length</th>\n",
       "    </tr>\n",
       "  </thead>\n",
       "  <tbody>\n",
       "    <tr>\n",
       "      <th>0</th>\n",
       "      <td>GCF_000005825.2_ASM582v2</td>\n",
       "      <td>3271836</td>\n",
       "    </tr>\n",
       "    <tr>\n",
       "      <th>1</th>\n",
       "      <td>GCF_000006175.1_ASM617v2</td>\n",
       "      <td>1530750</td>\n",
       "    </tr>\n",
       "    <tr>\n",
       "      <th>2</th>\n",
       "      <td>GCF_000006605.1_ASM660v1</td>\n",
       "      <td>2179200</td>\n",
       "    </tr>\n",
       "    <tr>\n",
       "      <th>3</th>\n",
       "      <td>GCF_000006685.1_ASM668v1</td>\n",
       "      <td>968265</td>\n",
       "    </tr>\n",
       "    <tr>\n",
       "      <th>4</th>\n",
       "      <td>GCF_000006725.1_ASM672v1</td>\n",
       "      <td>2108028</td>\n",
       "    </tr>\n",
       "  </tbody>\n",
       "</table>\n",
       "</div>"
      ],
      "text/plain": [
       "               ftp_basename  typical_length\n",
       "0  GCF_000005825.2_ASM582v2         3271836\n",
       "1  GCF_000006175.1_ASM617v2         1530750\n",
       "2  GCF_000006605.1_ASM660v1         2179200\n",
       "3  GCF_000006685.1_ASM668v1          968265\n",
       "4  GCF_000006725.1_ASM672v1         2108028"
      ]
     },
     "execution_count": 4,
     "metadata": {},
     "output_type": "execute_result"
    }
   ],
   "source": [
    "sf=ann_df.groupby('ftp_basename')['typical_length'].sum()\n",
    "typ_df=pd.DataFrame({\"ftp_basename\":sf.index, \"typical_length\":sf.values} )\n",
    "print(typ_df.shape)\n",
    "typ_df.head()"
   ]
  },
  {
   "cell_type": "code",
   "execution_count": 5,
   "metadata": {
    "collapsed": false
   },
   "outputs": [
    {
     "name": "stdout",
     "output_type": "stream",
     "text": [
      "(32300, 16)\n"
     ]
    },
    {
     "data": {
      "text/html": [
       "<div>\n",
       "<table border=\"1\" class=\"dataframe\">\n",
       "  <thead>\n",
       "    <tr style=\"text-align: right;\">\n",
       "      <th></th>\n",
       "      <th>ftp_basename</th>\n",
       "      <th>seq_type_r</th>\n",
       "      <th>thres</th>\n",
       "      <th>+1_r</th>\n",
       "      <th>+2_r</th>\n",
       "      <th>+3_r</th>\n",
       "      <th>-1_r</th>\n",
       "      <th>-2_r</th>\n",
       "      <th>-3_r</th>\n",
       "      <th>seq_type_s</th>\n",
       "      <th>+1_s</th>\n",
       "      <th>+2_s</th>\n",
       "      <th>+3_s</th>\n",
       "      <th>-1_s</th>\n",
       "      <th>-2_s</th>\n",
       "      <th>-3_s</th>\n",
       "    </tr>\n",
       "  </thead>\n",
       "  <tbody>\n",
       "    <tr>\n",
       "      <th>0</th>\n",
       "      <td>GCF_000022385.1_ASM2238v1</td>\n",
       "      <td>real</td>\n",
       "      <td>50</td>\n",
       "      <td>2327052</td>\n",
       "      <td>848004</td>\n",
       "      <td>1018122</td>\n",
       "      <td>1425243</td>\n",
       "      <td>1432585</td>\n",
       "      <td>2007550</td>\n",
       "      <td>sim</td>\n",
       "      <td>2327052</td>\n",
       "      <td>906557</td>\n",
       "      <td>1117083</td>\n",
       "      <td>1438509</td>\n",
       "      <td>1413639</td>\n",
       "      <td>2050187</td>\n",
       "    </tr>\n",
       "    <tr>\n",
       "      <th>1</th>\n",
       "      <td>GCF_000022385.1_ASM2238v1</td>\n",
       "      <td>real</td>\n",
       "      <td>100</td>\n",
       "      <td>2326662</td>\n",
       "      <td>190040</td>\n",
       "      <td>323132</td>\n",
       "      <td>603018</td>\n",
       "      <td>594940</td>\n",
       "      <td>1451209</td>\n",
       "      <td>sim</td>\n",
       "      <td>2326662</td>\n",
       "      <td>210440</td>\n",
       "      <td>359985</td>\n",
       "      <td>613785</td>\n",
       "      <td>574993</td>\n",
       "      <td>1546757</td>\n",
       "    </tr>\n",
       "    <tr>\n",
       "      <th>2</th>\n",
       "      <td>GCF_000022385.1_ASM2238v1</td>\n",
       "      <td>real</td>\n",
       "      <td>150</td>\n",
       "      <td>2326326</td>\n",
       "      <td>53848</td>\n",
       "      <td>132495</td>\n",
       "      <td>252561</td>\n",
       "      <td>236458</td>\n",
       "      <td>1007576</td>\n",
       "      <td>sim</td>\n",
       "      <td>2326245</td>\n",
       "      <td>59626</td>\n",
       "      <td>141150</td>\n",
       "      <td>251973</td>\n",
       "      <td>218776</td>\n",
       "      <td>1103744</td>\n",
       "    </tr>\n",
       "    <tr>\n",
       "      <th>3</th>\n",
       "      <td>GCF_000022385.1_ASM2238v1</td>\n",
       "      <td>real</td>\n",
       "      <td>200</td>\n",
       "      <td>2316294</td>\n",
       "      <td>27141</td>\n",
       "      <td>60577</td>\n",
       "      <td>105447</td>\n",
       "      <td>89945</td>\n",
       "      <td>635573</td>\n",
       "      <td>sim</td>\n",
       "      <td>2316492</td>\n",
       "      <td>26858</td>\n",
       "      <td>62288</td>\n",
       "      <td>101151</td>\n",
       "      <td>75829</td>\n",
       "      <td>741634</td>\n",
       "    </tr>\n",
       "    <tr>\n",
       "      <th>4</th>\n",
       "      <td>GCF_000022385.1_ASM2238v1</td>\n",
       "      <td>real</td>\n",
       "      <td>250</td>\n",
       "      <td>2291361</td>\n",
       "      <td>18208</td>\n",
       "      <td>34189</td>\n",
       "      <td>45630</td>\n",
       "      <td>31958</td>\n",
       "      <td>379303</td>\n",
       "      <td>sim</td>\n",
       "      <td>2291724</td>\n",
       "      <td>18931</td>\n",
       "      <td>34451</td>\n",
       "      <td>39711</td>\n",
       "      <td>27395</td>\n",
       "      <td>482587</td>\n",
       "    </tr>\n",
       "  </tbody>\n",
       "</table>\n",
       "</div>"
      ],
      "text/plain": [
       "                ftp_basename seq_type_r  thres     +1_r    +2_r     +3_r  \\\n",
       "0  GCF_000022385.1_ASM2238v1       real     50  2327052  848004  1018122   \n",
       "1  GCF_000022385.1_ASM2238v1       real    100  2326662  190040   323132   \n",
       "2  GCF_000022385.1_ASM2238v1       real    150  2326326   53848   132495   \n",
       "3  GCF_000022385.1_ASM2238v1       real    200  2316294   27141    60577   \n",
       "4  GCF_000022385.1_ASM2238v1       real    250  2291361   18208    34189   \n",
       "\n",
       "      -1_r     -2_r     -3_r seq_type_s     +1_s    +2_s     +3_s     -1_s  \\\n",
       "0  1425243  1432585  2007550        sim  2327052  906557  1117083  1438509   \n",
       "1   603018   594940  1451209        sim  2326662  210440   359985   613785   \n",
       "2   252561   236458  1007576        sim  2326245   59626   141150   251973   \n",
       "3   105447    89945   635573        sim  2316492   26858    62288   101151   \n",
       "4    45630    31958   379303        sim  2291724   18931    34451    39711   \n",
       "\n",
       "      -2_s     -3_s  \n",
       "0  1413639  2050187  \n",
       "1   574993  1546757  \n",
       "2   218776  1103744  \n",
       "3    75829   741634  \n",
       "4    27395   482587  "
      ]
     },
     "execution_count": 5,
     "metadata": {},
     "output_type": "execute_result"
    }
   ],
   "source": [
    "real_df=relative_df[relative_df[\"seq_type\"]==\"real\"]\n",
    "sim_df=relative_df[relative_df[\"seq_type\"]==\"sim\"]\n",
    "assert real_df.shape==sim_df.shape\n",
    "merged_df=pd.merge(real_df, sim_df, on=[\"ftp_basename\", \"thres\"], suffixes=('_r', '_s'))\n",
    "print(merged_df.shape)\n",
    "merged_df.head()"
   ]
  },
  {
   "cell_type": "code",
   "execution_count": 7,
   "metadata": {
    "collapsed": false
   },
   "outputs": [
    {
     "name": "stdout",
     "output_type": "stream",
     "text": [
      "(32300, 23)\n"
     ]
    },
    {
     "data": {
      "text/html": [
       "<div>\n",
       "<table border=\"1\" class=\"dataframe\">\n",
       "  <thead>\n",
       "    <tr style=\"text-align: right;\">\n",
       "      <th></th>\n",
       "      <th>ftp_basename</th>\n",
       "      <th>seq_type_r</th>\n",
       "      <th>thres</th>\n",
       "      <th>+1_r</th>\n",
       "      <th>+2_r</th>\n",
       "      <th>+3_r</th>\n",
       "      <th>-1_r</th>\n",
       "      <th>-2_r</th>\n",
       "      <th>-3_r</th>\n",
       "      <th>seq_type_s</th>\n",
       "      <th>...</th>\n",
       "      <th>-1_s</th>\n",
       "      <th>-2_s</th>\n",
       "      <th>-3_s</th>\n",
       "      <th>+1_d</th>\n",
       "      <th>+2_d</th>\n",
       "      <th>+3_d</th>\n",
       "      <th>-1_d</th>\n",
       "      <th>-2_d</th>\n",
       "      <th>-3_d</th>\n",
       "      <th>typical_length</th>\n",
       "    </tr>\n",
       "  </thead>\n",
       "  <tbody>\n",
       "    <tr>\n",
       "      <th>0</th>\n",
       "      <td>GCF_000022385.1_ASM2238v1</td>\n",
       "      <td>real</td>\n",
       "      <td>50</td>\n",
       "      <td>2327052</td>\n",
       "      <td>848004</td>\n",
       "      <td>1018122</td>\n",
       "      <td>1425243</td>\n",
       "      <td>1432585</td>\n",
       "      <td>2007550</td>\n",
       "      <td>sim</td>\n",
       "      <td>...</td>\n",
       "      <td>1438509</td>\n",
       "      <td>1413639</td>\n",
       "      <td>2050187</td>\n",
       "      <td>0</td>\n",
       "      <td>-58553</td>\n",
       "      <td>-98961</td>\n",
       "      <td>-13266</td>\n",
       "      <td>18946</td>\n",
       "      <td>-42637</td>\n",
       "      <td>2327943</td>\n",
       "    </tr>\n",
       "    <tr>\n",
       "      <th>1</th>\n",
       "      <td>GCF_000022385.1_ASM2238v1</td>\n",
       "      <td>real</td>\n",
       "      <td>100</td>\n",
       "      <td>2326662</td>\n",
       "      <td>190040</td>\n",
       "      <td>323132</td>\n",
       "      <td>603018</td>\n",
       "      <td>594940</td>\n",
       "      <td>1451209</td>\n",
       "      <td>sim</td>\n",
       "      <td>...</td>\n",
       "      <td>613785</td>\n",
       "      <td>574993</td>\n",
       "      <td>1546757</td>\n",
       "      <td>0</td>\n",
       "      <td>-20400</td>\n",
       "      <td>-36853</td>\n",
       "      <td>-10767</td>\n",
       "      <td>19947</td>\n",
       "      <td>-95548</td>\n",
       "      <td>2327943</td>\n",
       "    </tr>\n",
       "    <tr>\n",
       "      <th>2</th>\n",
       "      <td>GCF_000022385.1_ASM2238v1</td>\n",
       "      <td>real</td>\n",
       "      <td>150</td>\n",
       "      <td>2326326</td>\n",
       "      <td>53848</td>\n",
       "      <td>132495</td>\n",
       "      <td>252561</td>\n",
       "      <td>236458</td>\n",
       "      <td>1007576</td>\n",
       "      <td>sim</td>\n",
       "      <td>...</td>\n",
       "      <td>251973</td>\n",
       "      <td>218776</td>\n",
       "      <td>1103744</td>\n",
       "      <td>81</td>\n",
       "      <td>-5778</td>\n",
       "      <td>-8655</td>\n",
       "      <td>588</td>\n",
       "      <td>17682</td>\n",
       "      <td>-96168</td>\n",
       "      <td>2327943</td>\n",
       "    </tr>\n",
       "    <tr>\n",
       "      <th>3</th>\n",
       "      <td>GCF_000022385.1_ASM2238v1</td>\n",
       "      <td>real</td>\n",
       "      <td>200</td>\n",
       "      <td>2316294</td>\n",
       "      <td>27141</td>\n",
       "      <td>60577</td>\n",
       "      <td>105447</td>\n",
       "      <td>89945</td>\n",
       "      <td>635573</td>\n",
       "      <td>sim</td>\n",
       "      <td>...</td>\n",
       "      <td>101151</td>\n",
       "      <td>75829</td>\n",
       "      <td>741634</td>\n",
       "      <td>-198</td>\n",
       "      <td>283</td>\n",
       "      <td>-1711</td>\n",
       "      <td>4296</td>\n",
       "      <td>14116</td>\n",
       "      <td>-106061</td>\n",
       "      <td>2327943</td>\n",
       "    </tr>\n",
       "    <tr>\n",
       "      <th>4</th>\n",
       "      <td>GCF_000022385.1_ASM2238v1</td>\n",
       "      <td>real</td>\n",
       "      <td>250</td>\n",
       "      <td>2291361</td>\n",
       "      <td>18208</td>\n",
       "      <td>34189</td>\n",
       "      <td>45630</td>\n",
       "      <td>31958</td>\n",
       "      <td>379303</td>\n",
       "      <td>sim</td>\n",
       "      <td>...</td>\n",
       "      <td>39711</td>\n",
       "      <td>27395</td>\n",
       "      <td>482587</td>\n",
       "      <td>-363</td>\n",
       "      <td>-723</td>\n",
       "      <td>-262</td>\n",
       "      <td>5919</td>\n",
       "      <td>4563</td>\n",
       "      <td>-103284</td>\n",
       "      <td>2327943</td>\n",
       "    </tr>\n",
       "  </tbody>\n",
       "</table>\n",
       "<p>5 rows × 23 columns</p>\n",
       "</div>"
      ],
      "text/plain": [
       "                ftp_basename seq_type_r  thres     +1_r    +2_r     +3_r  \\\n",
       "0  GCF_000022385.1_ASM2238v1       real     50  2327052  848004  1018122   \n",
       "1  GCF_000022385.1_ASM2238v1       real    100  2326662  190040   323132   \n",
       "2  GCF_000022385.1_ASM2238v1       real    150  2326326   53848   132495   \n",
       "3  GCF_000022385.1_ASM2238v1       real    200  2316294   27141    60577   \n",
       "4  GCF_000022385.1_ASM2238v1       real    250  2291361   18208    34189   \n",
       "\n",
       "      -1_r     -2_r     -3_r seq_type_s       ...           -1_s     -2_s  \\\n",
       "0  1425243  1432585  2007550        sim       ...        1438509  1413639   \n",
       "1   603018   594940  1451209        sim       ...         613785   574993   \n",
       "2   252561   236458  1007576        sim       ...         251973   218776   \n",
       "3   105447    89945   635573        sim       ...         101151    75829   \n",
       "4    45630    31958   379303        sim       ...          39711    27395   \n",
       "\n",
       "      -3_s  +1_d   +2_d   +3_d   -1_d   -2_d    -3_d  typical_length  \n",
       "0  2050187     0 -58553 -98961 -13266  18946  -42637         2327943  \n",
       "1  1546757     0 -20400 -36853 -10767  19947  -95548         2327943  \n",
       "2  1103744    81  -5778  -8655    588  17682  -96168         2327943  \n",
       "3   741634  -198    283  -1711   4296  14116 -106061         2327943  \n",
       "4   482587  -363   -723   -262   5919   4563 -103284         2327943  \n",
       "\n",
       "[5 rows x 23 columns]"
      ]
     },
     "execution_count": 7,
     "metadata": {},
     "output_type": "execute_result"
    }
   ],
   "source": [
    "merged_df=pd.merge(merged_df, typ_df, on=\"ftp_basename\")\n",
    "print(merged_df.shape)\n",
    "merged_df.head()"
   ]
  },
  {
   "cell_type": "code",
   "execution_count": 8,
   "metadata": {
    "collapsed": true
   },
   "outputs": [],
   "source": [
    "assert merged_df[\"typical_length\"].min()>0\n",
    "for name in [\"+1\", \"+2\", \"+3\", \"-1\", \"-2\", \"-3\"]:\n",
    "    merged_df[name+\"_d\"]=merged_df[name+\"_r\"]-merged_df[name+\"_s\"]#d for difference\n",
    "    merged_df[name+\"_c\"]=merged_df[name+\"_d\"]/merged_df[\"typical_length\"]"
   ]
  },
  {
   "cell_type": "code",
   "execution_count": 9,
   "metadata": {
    "collapsed": false
   },
   "outputs": [
    {
     "data": {
      "text/html": [
       "<div>\n",
       "<table border=\"1\" class=\"dataframe\">\n",
       "  <thead>\n",
       "    <tr style=\"text-align: right;\">\n",
       "      <th></th>\n",
       "      <th>ftp_basename</th>\n",
       "      <th>seq_type_r</th>\n",
       "      <th>thres</th>\n",
       "      <th>+1_r</th>\n",
       "      <th>+2_r</th>\n",
       "      <th>+3_r</th>\n",
       "      <th>-1_r</th>\n",
       "      <th>-2_r</th>\n",
       "      <th>-3_r</th>\n",
       "      <th>seq_type_s</th>\n",
       "      <th>...</th>\n",
       "      <th>-1_d</th>\n",
       "      <th>-2_d</th>\n",
       "      <th>-3_d</th>\n",
       "      <th>typical_length</th>\n",
       "      <th>+1_c</th>\n",
       "      <th>+2_c</th>\n",
       "      <th>+3_c</th>\n",
       "      <th>-1_c</th>\n",
       "      <th>-2_c</th>\n",
       "      <th>-3_c</th>\n",
       "    </tr>\n",
       "  </thead>\n",
       "  <tbody>\n",
       "    <tr>\n",
       "      <th>0</th>\n",
       "      <td>GCF_000022385.1_ASM2238v1</td>\n",
       "      <td>real</td>\n",
       "      <td>50</td>\n",
       "      <td>2327052</td>\n",
       "      <td>848004</td>\n",
       "      <td>1018122</td>\n",
       "      <td>1425243</td>\n",
       "      <td>1432585</td>\n",
       "      <td>2007550</td>\n",
       "      <td>sim</td>\n",
       "      <td>...</td>\n",
       "      <td>-13266</td>\n",
       "      <td>18946</td>\n",
       "      <td>-42637</td>\n",
       "      <td>2327943</td>\n",
       "      <td>0.000000</td>\n",
       "      <td>-0.025152</td>\n",
       "      <td>-0.042510</td>\n",
       "      <td>-0.005699</td>\n",
       "      <td>0.008139</td>\n",
       "      <td>-0.018315</td>\n",
       "    </tr>\n",
       "    <tr>\n",
       "      <th>1</th>\n",
       "      <td>GCF_000022385.1_ASM2238v1</td>\n",
       "      <td>real</td>\n",
       "      <td>100</td>\n",
       "      <td>2326662</td>\n",
       "      <td>190040</td>\n",
       "      <td>323132</td>\n",
       "      <td>603018</td>\n",
       "      <td>594940</td>\n",
       "      <td>1451209</td>\n",
       "      <td>sim</td>\n",
       "      <td>...</td>\n",
       "      <td>-10767</td>\n",
       "      <td>19947</td>\n",
       "      <td>-95548</td>\n",
       "      <td>2327943</td>\n",
       "      <td>0.000000</td>\n",
       "      <td>-0.008763</td>\n",
       "      <td>-0.015831</td>\n",
       "      <td>-0.004625</td>\n",
       "      <td>0.008569</td>\n",
       "      <td>-0.041044</td>\n",
       "    </tr>\n",
       "    <tr>\n",
       "      <th>2</th>\n",
       "      <td>GCF_000022385.1_ASM2238v1</td>\n",
       "      <td>real</td>\n",
       "      <td>150</td>\n",
       "      <td>2326326</td>\n",
       "      <td>53848</td>\n",
       "      <td>132495</td>\n",
       "      <td>252561</td>\n",
       "      <td>236458</td>\n",
       "      <td>1007576</td>\n",
       "      <td>sim</td>\n",
       "      <td>...</td>\n",
       "      <td>588</td>\n",
       "      <td>17682</td>\n",
       "      <td>-96168</td>\n",
       "      <td>2327943</td>\n",
       "      <td>0.000035</td>\n",
       "      <td>-0.002482</td>\n",
       "      <td>-0.003718</td>\n",
       "      <td>0.000253</td>\n",
       "      <td>0.007596</td>\n",
       "      <td>-0.041310</td>\n",
       "    </tr>\n",
       "    <tr>\n",
       "      <th>3</th>\n",
       "      <td>GCF_000022385.1_ASM2238v1</td>\n",
       "      <td>real</td>\n",
       "      <td>200</td>\n",
       "      <td>2316294</td>\n",
       "      <td>27141</td>\n",
       "      <td>60577</td>\n",
       "      <td>105447</td>\n",
       "      <td>89945</td>\n",
       "      <td>635573</td>\n",
       "      <td>sim</td>\n",
       "      <td>...</td>\n",
       "      <td>4296</td>\n",
       "      <td>14116</td>\n",
       "      <td>-106061</td>\n",
       "      <td>2327943</td>\n",
       "      <td>-0.000085</td>\n",
       "      <td>0.000122</td>\n",
       "      <td>-0.000735</td>\n",
       "      <td>0.001845</td>\n",
       "      <td>0.006064</td>\n",
       "      <td>-0.045560</td>\n",
       "    </tr>\n",
       "    <tr>\n",
       "      <th>4</th>\n",
       "      <td>GCF_000022385.1_ASM2238v1</td>\n",
       "      <td>real</td>\n",
       "      <td>250</td>\n",
       "      <td>2291361</td>\n",
       "      <td>18208</td>\n",
       "      <td>34189</td>\n",
       "      <td>45630</td>\n",
       "      <td>31958</td>\n",
       "      <td>379303</td>\n",
       "      <td>sim</td>\n",
       "      <td>...</td>\n",
       "      <td>5919</td>\n",
       "      <td>4563</td>\n",
       "      <td>-103284</td>\n",
       "      <td>2327943</td>\n",
       "      <td>-0.000156</td>\n",
       "      <td>-0.000311</td>\n",
       "      <td>-0.000113</td>\n",
       "      <td>0.002543</td>\n",
       "      <td>0.001960</td>\n",
       "      <td>-0.044367</td>\n",
       "    </tr>\n",
       "  </tbody>\n",
       "</table>\n",
       "<p>5 rows × 29 columns</p>\n",
       "</div>"
      ],
      "text/plain": [
       "                ftp_basename seq_type_r  thres     +1_r    +2_r     +3_r  \\\n",
       "0  GCF_000022385.1_ASM2238v1       real     50  2327052  848004  1018122   \n",
       "1  GCF_000022385.1_ASM2238v1       real    100  2326662  190040   323132   \n",
       "2  GCF_000022385.1_ASM2238v1       real    150  2326326   53848   132495   \n",
       "3  GCF_000022385.1_ASM2238v1       real    200  2316294   27141    60577   \n",
       "4  GCF_000022385.1_ASM2238v1       real    250  2291361   18208    34189   \n",
       "\n",
       "      -1_r     -2_r     -3_r seq_type_s    ...      -1_d   -2_d    -3_d  \\\n",
       "0  1425243  1432585  2007550        sim    ...    -13266  18946  -42637   \n",
       "1   603018   594940  1451209        sim    ...    -10767  19947  -95548   \n",
       "2   252561   236458  1007576        sim    ...       588  17682  -96168   \n",
       "3   105447    89945   635573        sim    ...      4296  14116 -106061   \n",
       "4    45630    31958   379303        sim    ...      5919   4563 -103284   \n",
       "\n",
       "   typical_length      +1_c      +2_c      +3_c      -1_c      -2_c      -3_c  \n",
       "0         2327943  0.000000 -0.025152 -0.042510 -0.005699  0.008139 -0.018315  \n",
       "1         2327943  0.000000 -0.008763 -0.015831 -0.004625  0.008569 -0.041044  \n",
       "2         2327943  0.000035 -0.002482 -0.003718  0.000253  0.007596 -0.041310  \n",
       "3         2327943 -0.000085  0.000122 -0.000735  0.001845  0.006064 -0.045560  \n",
       "4         2327943 -0.000156 -0.000311 -0.000113  0.002543  0.001960 -0.044367  \n",
       "\n",
       "[5 rows x 29 columns]"
      ]
     },
     "execution_count": 9,
     "metadata": {},
     "output_type": "execute_result"
    }
   ],
   "source": [
    "merged_df.head()"
   ]
  },
  {
   "cell_type": "code",
   "execution_count": 25,
   "metadata": {
    "collapsed": false
   },
   "outputs": [
    {
     "data": {
      "text/html": [
       "<div>\n",
       "<table border=\"1\" class=\"dataframe\">\n",
       "  <thead>\n",
       "    <tr style=\"text-align: right;\">\n",
       "      <th></th>\n",
       "      <th>+1_c</th>\n",
       "      <th>+2_c</th>\n",
       "      <th>+3_c</th>\n",
       "      <th>-1_c</th>\n",
       "      <th>-2_c</th>\n",
       "      <th>-3_c</th>\n",
       "    </tr>\n",
       "  </thead>\n",
       "  <tbody>\n",
       "    <tr>\n",
       "      <th>count</th>\n",
       "      <td>1615.000000</td>\n",
       "      <td>1615.000000</td>\n",
       "      <td>1615.000000</td>\n",
       "      <td>1615.000000</td>\n",
       "      <td>1615.000000</td>\n",
       "      <td>1615.000000</td>\n",
       "    </tr>\n",
       "    <tr>\n",
       "      <th>mean</th>\n",
       "      <td>-0.000064</td>\n",
       "      <td>0.012732</td>\n",
       "      <td>0.072839</td>\n",
       "      <td>0.019283</td>\n",
       "      <td>0.009698</td>\n",
       "      <td>-0.031555</td>\n",
       "    </tr>\n",
       "    <tr>\n",
       "      <th>std</th>\n",
       "      <td>0.000360</td>\n",
       "      <td>0.036137</td>\n",
       "      <td>0.102208</td>\n",
       "      <td>0.027650</td>\n",
       "      <td>0.029651</td>\n",
       "      <td>0.041009</td>\n",
       "    </tr>\n",
       "    <tr>\n",
       "      <th>min</th>\n",
       "      <td>-0.001681</td>\n",
       "      <td>-0.138214</td>\n",
       "      <td>-0.041161</td>\n",
       "      <td>-0.012193</td>\n",
       "      <td>-0.104614</td>\n",
       "      <td>-0.176629</td>\n",
       "    </tr>\n",
       "    <tr>\n",
       "      <th>25%</th>\n",
       "      <td>-0.000262</td>\n",
       "      <td>-0.002838</td>\n",
       "      <td>0.000988</td>\n",
       "      <td>0.000087</td>\n",
       "      <td>-0.000552</td>\n",
       "      <td>-0.054533</td>\n",
       "    </tr>\n",
       "    <tr>\n",
       "      <th>50%</th>\n",
       "      <td>-0.000042</td>\n",
       "      <td>0.000072</td>\n",
       "      <td>0.015686</td>\n",
       "      <td>0.006132</td>\n",
       "      <td>0.004938</td>\n",
       "      <td>-0.023795</td>\n",
       "    </tr>\n",
       "    <tr>\n",
       "      <th>75%</th>\n",
       "      <td>0.000139</td>\n",
       "      <td>0.021978</td>\n",
       "      <td>0.122262</td>\n",
       "      <td>0.030293</td>\n",
       "      <td>0.018970</td>\n",
       "      <td>-0.003753</td>\n",
       "    </tr>\n",
       "    <tr>\n",
       "      <th>max</th>\n",
       "      <td>0.001479</td>\n",
       "      <td>0.206820</td>\n",
       "      <td>0.450891</td>\n",
       "      <td>0.140396</td>\n",
       "      <td>0.164945</td>\n",
       "      <td>0.124249</td>\n",
       "    </tr>\n",
       "  </tbody>\n",
       "</table>\n",
       "</div>"
      ],
      "text/plain": [
       "              +1_c         +2_c         +3_c         -1_c         -2_c  \\\n",
       "count  1615.000000  1615.000000  1615.000000  1615.000000  1615.000000   \n",
       "mean     -0.000064     0.012732     0.072839     0.019283     0.009698   \n",
       "std       0.000360     0.036137     0.102208     0.027650     0.029651   \n",
       "min      -0.001681    -0.138214    -0.041161    -0.012193    -0.104614   \n",
       "25%      -0.000262    -0.002838     0.000988     0.000087    -0.000552   \n",
       "50%      -0.000042     0.000072     0.015686     0.006132     0.004938   \n",
       "75%       0.000139     0.021978     0.122262     0.030293     0.018970   \n",
       "max       0.001479     0.206820     0.450891     0.140396     0.164945   \n",
       "\n",
       "              -3_c  \n",
       "count  1615.000000  \n",
       "mean     -0.031555  \n",
       "std       0.041009  \n",
       "min      -0.176629  \n",
       "25%      -0.054533  \n",
       "50%      -0.023795  \n",
       "75%      -0.003753  \n",
       "max       0.124249  "
      ]
     },
     "execution_count": 25,
     "metadata": {},
     "output_type": "execute_result"
    }
   ],
   "source": [
    "filtered_df=merged_df[merged_df[\"thres\"]==300]\n",
    "filtered_df[[name+\"_c\" for name in [\"+1\",\"+2\",\"+3\",\"-1\",\"-2\",\"-3\"]]].describe()"
   ]
  },
  {
   "cell_type": "code",
   "execution_count": 26,
   "metadata": {
    "collapsed": false
   },
   "outputs": [
    {
     "data": {
      "text/plain": [
       "(1615, 29)"
      ]
     },
     "execution_count": 26,
     "metadata": {},
     "output_type": "execute_result"
    }
   ],
   "source": [
    "filtered_df.shape"
   ]
  },
  {
   "cell_type": "code",
   "execution_count": 29,
   "metadata": {
    "collapsed": false,
    "scrolled": false
   },
   "outputs": [
    {
     "data": {
      "image/png": "[encoded data removed]",
      "text/plain": [
       "<matplotlib.figure.Figure at 0x117b0ed68>"
      ]
     },
     "metadata": {},
     "output_type": "display_data"
    }
   ],
   "source": [
    "plt.figure(figsize=(8,8))\n",
    "for name in [\"+1\",\"+2\",\"+3\",\"-1\",\"-2\",\"-3\"]:\n",
    "    sns.distplot (filtered_df[name+\"_c\"], kde=False, bins =50)\n",
    "#plt.plot()"
   ]
  },
  {
   "cell_type": "code",
   "execution_count": 13,
   "metadata": {
    "collapsed": false
   },
   "outputs": [
    {
     "data": {
      "text/plain": [
       "['+1_c', '+2_c', '+3_c', '-1_c', '-2_c', '-3_c']"
      ]
     },
     "execution_count": 13,
     "metadata": {},
     "output_type": "execute_result"
    }
   ],
   "source": []
  },
  {
   "cell_type": "code",
   "execution_count": null,
   "metadata": {
    "collapsed": false
   },
   "outputs": [],
   "source": [
    "pd.DataFrame(typ_df)"
   ]
  },
  {
   "cell_type": "code",
   "execution_count": null,
   "metadata": {
    "collapsed": false
   },
   "outputs": [],
   "source": [
    "filtered_df=merged_df[merged_df[\"thres\"]==300]\n",
    "filtered_df.describe()"
   ]
  },
  {
   "cell_type": "code",
   "execution_count": null,
   "metadata": {
    "collapsed": false
   },
   "outputs": [],
   "source": [
    "filtered_df.head(20)"
   ]
  },
  {
   "cell_type": "code",
   "execution_count": null,
   "metadata": {
    "collapsed": false
   },
   "outputs": [],
   "source": [
    "filtered_df.head()"
   ]
  },
  {
   "cell_type": "code",
   "execution_count": null,
   "metadata": {
    "collapsed": false
   },
   "outputs": [],
   "source": [
    "filtered_df[\"-2_ratio\"]"
   ]
  },
  {
   "cell_type": "code",
   "execution_count": null,
   "metadata": {
    "collapsed": false
   },
   "outputs": [],
   "source": [
    "merged_df"
   ]
  },
  {
   "cell_type": "code",
   "execution_count": null,
   "metadata": {
    "collapsed": true
   },
   "outputs": [],
   "source": [
    "def myplot(df, xClm, yClm):\n",
    "    plt.figure(figsize=(8,8))\n",
    "    sns.regplot(xClm,yClm,data=df,fit_reg=False)\n",
    "    plt.plot([0,6],[0,6],\"k:\")\n",
    "    plt.xlabel(\"\")\n",
    "    plt.ylabel(\"\")\n",
    "    plt.tick_params(labelsize=15)\n",
    "    plt.show()"
   ]
  },
  {
   "cell_type": "code",
   "execution_count": null,
   "metadata": {
    "collapsed": false
   },
   "outputs": [],
   "source": [
    "real_df"
   ]
  },
  {
   "cell_type": "code",
   "execution_count": null,
   "metadata": {
    "collapsed": false
   },
   "outputs": [],
   "source": [
    "df2 = pd.read_csv(filepath,index_col=[\"ftp_basename\",\"seq_type\",\"thres\"])\n",
    "df2.head(30)"
   ]
  },
  {
   "cell_type": "code",
   "execution_count": null,
   "metadata": {
    "collapsed": true
   },
   "outputs": [],
   "source": [
    "df2[]"
   ]
  },
  {
   "cell_type": "code",
   "execution_count": null,
   "metadata": {
    "collapsed": true
   },
   "outputs": [],
   "source": [
    "df2[df2[]]"
   ]
  },
  {
   "cell_type": "code",
   "execution_count": null,
   "metadata": {
    "collapsed": true
   },
   "outputs": [],
   "source": []
  }
 ],
 "metadata": {
  "kernelspec": {
   "display_name": "Python 3",
   "language": "python",
   "name": "python3"
  },
  "language_info": {
   "codemirror_mode": {
    "name": "ipython",
    "version": 3
   },
   "file_extension": ".py",
   "mimetype": "text/x-python",
   "name": "python",
   "nbconvert_exporter": "python",
   "pygments_lexer": "ipython3",
   "version": "3.6.0"
  }
 },
 "nbformat": 4,
 "nbformat_minor": 2
}
