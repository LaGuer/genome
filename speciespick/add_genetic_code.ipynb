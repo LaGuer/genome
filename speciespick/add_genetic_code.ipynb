{
 "cells": [
  {
   "cell_type": "code",
   "execution_count": 1,
   "metadata": {
    "collapsed": true
   },
   "outputs": [],
   "source": [
    "import pandas as pd"
   ]
  },
  {
   "cell_type": "code",
   "execution_count": 3,
   "metadata": {
    "collapsed": false
   },
   "outputs": [
    {
     "data": {
      "text/html": [
       "<div>\n",
       "<table border=\"1\" class=\"dataframe\">\n",
       "  <thead>\n",
       "    <tr style=\"text-align: right;\">\n",
       "      <th></th>\n",
       "      <th>asm_name</th>\n",
       "      <th>assembly_accession</th>\n",
       "      <th>domain</th>\n",
       "      <th>ftp_basename</th>\n",
       "      <th>ftp_path</th>\n",
       "      <th>organism_name</th>\n",
       "      <th>taxid</th>\n",
       "    </tr>\n",
       "  </thead>\n",
       "  <tbody>\n",
       "    <tr>\n",
       "      <th>0</th>\n",
       "      <td>ASM2238v1</td>\n",
       "      <td>GCF_000022385.1</td>\n",
       "      <td>archaea</td>\n",
       "      <td>GCF_000022385.1_ASM2238v1</td>\n",
       "      <td>ftp://ftp.ncbi.nlm.nih.gov/genomes/all/GCF/000...</td>\n",
       "      <td>Sulfolobus islandicus L.S.2.15</td>\n",
       "      <td>429572</td>\n",
       "    </tr>\n",
       "    <tr>\n",
       "      <th>1</th>\n",
       "      <td>ASM97008v1</td>\n",
       "      <td>GCF_000970085.1</td>\n",
       "      <td>archaea</td>\n",
       "      <td>GCF_000970085.1_ASM97008v1</td>\n",
       "      <td>ftp://ftp.ncbi.nlm.nih.gov/genomes/all/GCF/000...</td>\n",
       "      <td>Methanosarcina siciliae T4/M</td>\n",
       "      <td>1434120</td>\n",
       "    </tr>\n",
       "    <tr>\n",
       "      <th>2</th>\n",
       "      <td>ASM734v1</td>\n",
       "      <td>GCF_000007345.1</td>\n",
       "      <td>archaea</td>\n",
       "      <td>GCF_000007345.1_ASM734v1</td>\n",
       "      <td>ftp://ftp.ncbi.nlm.nih.gov/genomes/all/GCF/000...</td>\n",
       "      <td>Methanosarcina acetivorans C2A</td>\n",
       "      <td>188937</td>\n",
       "    </tr>\n",
       "    <tr>\n",
       "      <th>3</th>\n",
       "      <td>ASM35030v1</td>\n",
       "      <td>GCF_000350305.1</td>\n",
       "      <td>archaea</td>\n",
       "      <td>GCF_000350305.1_ASM35030v1</td>\n",
       "      <td>ftp://ftp.ncbi.nlm.nih.gov/genomes/all/GCF/000...</td>\n",
       "      <td>Thermoplasmatales archaeon BRNA1</td>\n",
       "      <td>1054217</td>\n",
       "    </tr>\n",
       "    <tr>\n",
       "      <th>4</th>\n",
       "      <td>ASM96990v1</td>\n",
       "      <td>GCF_000969905.1</td>\n",
       "      <td>archaea</td>\n",
       "      <td>GCF_000969905.1_ASM96990v1</td>\n",
       "      <td>ftp://ftp.ncbi.nlm.nih.gov/genomes/all/GCF/000...</td>\n",
       "      <td>Methanosarcina vacuolata Z-761</td>\n",
       "      <td>1434123</td>\n",
       "    </tr>\n",
       "  </tbody>\n",
       "</table>\n",
       "</div>"
      ],
      "text/plain": [
       "     asm_name assembly_accession   domain                ftp_basename  \\\n",
       "0   ASM2238v1    GCF_000022385.1  archaea   GCF_000022385.1_ASM2238v1   \n",
       "1  ASM97008v1    GCF_000970085.1  archaea  GCF_000970085.1_ASM97008v1   \n",
       "2    ASM734v1    GCF_000007345.1  archaea    GCF_000007345.1_ASM734v1   \n",
       "3  ASM35030v1    GCF_000350305.1  archaea  GCF_000350305.1_ASM35030v1   \n",
       "4  ASM96990v1    GCF_000969905.1  archaea  GCF_000969905.1_ASM96990v1   \n",
       "\n",
       "                                            ftp_path  \\\n",
       "0  ftp://ftp.ncbi.nlm.nih.gov/genomes/all/GCF/000...   \n",
       "1  ftp://ftp.ncbi.nlm.nih.gov/genomes/all/GCF/000...   \n",
       "2  ftp://ftp.ncbi.nlm.nih.gov/genomes/all/GCF/000...   \n",
       "3  ftp://ftp.ncbi.nlm.nih.gov/genomes/all/GCF/000...   \n",
       "4  ftp://ftp.ncbi.nlm.nih.gov/genomes/all/GCF/000...   \n",
       "\n",
       "                      organism_name    taxid  \n",
       "0    Sulfolobus islandicus L.S.2.15   429572  \n",
       "1      Methanosarcina siciliae T4/M  1434120  \n",
       "2    Methanosarcina acetivorans C2A   188937  \n",
       "3  Thermoplasmatales archaeon BRNA1  1054217  \n",
       "4    Methanosarcina vacuolata Z-761  1434123  "
      ]
     },
     "execution_count": 3,
     "metadata": {},
     "output_type": "execute_result"
    }
   ],
   "source": [
    "asmDf=pd.read_csv(\"picked_assembly_summary.csv\")\n",
    "asmDf.head()"
   ]
  },
  {
   "cell_type": "code",
   "execution_count": 15,
   "metadata": {
    "collapsed": false
   },
   "outputs": [
    {
     "data": {
      "text/html": [
       "<div>\n",
       "<table border=\"1\" class=\"dataframe\">\n",
       "  <thead>\n",
       "    <tr style=\"text-align: right;\">\n",
       "      <th></th>\n",
       "      <th>taxid</th>\n",
       "      <th>1</th>\n",
       "      <th>2</th>\n",
       "      <th>3</th>\n",
       "      <th>4</th>\n",
       "      <th>5</th>\n",
       "      <th>genetic_code</th>\n",
       "      <th>7</th>\n",
       "      <th>8</th>\n",
       "      <th>9</th>\n",
       "      <th>10</th>\n",
       "      <th>11</th>\n",
       "      <th>12</th>\n",
       "      <th>13</th>\n",
       "    </tr>\n",
       "  </thead>\n",
       "  <tbody>\n",
       "    <tr>\n",
       "      <th>0</th>\n",
       "      <td>1</td>\n",
       "      <td>1</td>\n",
       "      <td>no rank</td>\n",
       "      <td>NaN</td>\n",
       "      <td>8</td>\n",
       "      <td>0</td>\n",
       "      <td>1</td>\n",
       "      <td>0</td>\n",
       "      <td>0</td>\n",
       "      <td>0</td>\n",
       "      <td>0</td>\n",
       "      <td>0</td>\n",
       "      <td>NaN</td>\n",
       "      <td>NaN</td>\n",
       "    </tr>\n",
       "    <tr>\n",
       "      <th>1</th>\n",
       "      <td>2</td>\n",
       "      <td>131567</td>\n",
       "      <td>superkingdom</td>\n",
       "      <td>NaN</td>\n",
       "      <td>0</td>\n",
       "      <td>0</td>\n",
       "      <td>11</td>\n",
       "      <td>0</td>\n",
       "      <td>0</td>\n",
       "      <td>0</td>\n",
       "      <td>0</td>\n",
       "      <td>0</td>\n",
       "      <td>NaN</td>\n",
       "      <td>NaN</td>\n",
       "    </tr>\n",
       "    <tr>\n",
       "      <th>2</th>\n",
       "      <td>6</td>\n",
       "      <td>335928</td>\n",
       "      <td>genus</td>\n",
       "      <td>NaN</td>\n",
       "      <td>0</td>\n",
       "      <td>1</td>\n",
       "      <td>11</td>\n",
       "      <td>1</td>\n",
       "      <td>0</td>\n",
       "      <td>1</td>\n",
       "      <td>0</td>\n",
       "      <td>0</td>\n",
       "      <td>NaN</td>\n",
       "      <td>NaN</td>\n",
       "    </tr>\n",
       "    <tr>\n",
       "      <th>3</th>\n",
       "      <td>7</td>\n",
       "      <td>6</td>\n",
       "      <td>species</td>\n",
       "      <td>AC</td>\n",
       "      <td>0</td>\n",
       "      <td>1</td>\n",
       "      <td>11</td>\n",
       "      <td>1</td>\n",
       "      <td>0</td>\n",
       "      <td>1</td>\n",
       "      <td>1</td>\n",
       "      <td>0</td>\n",
       "      <td>NaN</td>\n",
       "      <td>NaN</td>\n",
       "    </tr>\n",
       "    <tr>\n",
       "      <th>4</th>\n",
       "      <td>9</td>\n",
       "      <td>32199</td>\n",
       "      <td>species</td>\n",
       "      <td>BA</td>\n",
       "      <td>0</td>\n",
       "      <td>1</td>\n",
       "      <td>11</td>\n",
       "      <td>1</td>\n",
       "      <td>0</td>\n",
       "      <td>1</td>\n",
       "      <td>1</td>\n",
       "      <td>0</td>\n",
       "      <td>NaN</td>\n",
       "      <td>NaN</td>\n",
       "    </tr>\n",
       "  </tbody>\n",
       "</table>\n",
       "</div>"
      ],
      "text/plain": [
       "   taxid       1             2    3  4  5  genetic_code  7  8  9  10  11   12  \\\n",
       "0      1       1       no rank  NaN  8  0             1  0  0  0   0   0  NaN   \n",
       "1      2  131567  superkingdom  NaN  0  0            11  0  0  0   0   0  NaN   \n",
       "2      6  335928         genus  NaN  0  1            11  1  0  1   0   0  NaN   \n",
       "3      7       6       species   AC  0  1            11  1  0  1   1   0  NaN   \n",
       "4      9   32199       species   BA  0  1            11  1  0  1   1   0  NaN   \n",
       "\n",
       "   13  \n",
       "0 NaN  \n",
       "1 NaN  \n",
       "2 NaN  \n",
       "3 NaN  \n",
       "4 NaN  "
      ]
     },
     "execution_count": 15,
     "metadata": {},
     "output_type": "execute_result"
    }
   ],
   "source": [
    "names_lst=[str(i) for i in range(14)]\n",
    "names_lst[0]=\"taxid\"\n",
    "names_lst[6]=\"genetic_code\"\n",
    "\n",
    "#names_lst=[\"tax_id\", \"parent tax_id\", \"rank\", \"embl code\", \"division id\", \"inherited div flag\" \"genetic code id\", \"inherited GC flag\", \"mitochondrial genetic code id\", \"inherited MGC flag\", \"GenBank hidden flag\", \"hidden subtree root flag\", \"comments\"]\n",
    "taxDf=pd.read_csv(\"~/data/taxonomy/nodes.processed\",names=names_lst)\n",
    "#taxDf=pd.read_csv(\"~/data/taxonomy/nodes.processed\",header=None)\n",
    "taxDf.head()"
   ]
  },
  {
   "cell_type": "code",
   "execution_count": 17,
   "metadata": {
    "collapsed": false,
    "scrolled": true
   },
   "outputs": [],
   "source": [
    "outDf=pd.merge(asmDf, taxDf[[\"taxid\",\"genetic_code\"]],on=\"taxid\",how=\"left\")"
   ]
  },
  {
   "cell_type": "code",
   "execution_count": 19,
   "metadata": {
    "collapsed": false
   },
   "outputs": [],
   "source": [
    "outDf.to_csv(\"picked_assembly_summary_code.csv\",index=False)"
   ]
  },
  {
   "cell_type": "code",
   "execution_count": null,
   "metadata": {
    "collapsed": true
   },
   "outputs": [],
   "source": []
  }
 ],
 "metadata": {
  "anaconda-cloud": {},
  "kernelspec": {
   "display_name": "Python [conda root]",
   "language": "python",
   "name": "conda-root-py"
  },
  "language_info": {
   "codemirror_mode": {
    "name": "ipython",
    "version": 3
   },
   "file_extension": ".py",
   "mimetype": "text/x-python",
   "name": "python",
   "nbconvert_exporter": "python",
   "pygments_lexer": "ipython3",
   "version": "3.5.2"
  }
 },
 "nbformat": 4,
 "nbformat_minor": 1
}
