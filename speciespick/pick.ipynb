{
 "cells": [
  {
   "cell_type": "code",
   "execution_count": 9,
   "metadata": {
    "collapsed": true
   },
   "outputs": [],
   "source": [
    "import pandas as pd"
   ]
  },
  {
   "cell_type": "code",
   "execution_count": 10,
   "metadata": {
    "collapsed": false
   },
   "outputs": [
    {
     "name": "stderr",
     "output_type": "stream",
     "text": [
      "/Users/mitsuki/.pyenv/versions/anaconda3-4.3.0/lib/python3.6/site-packages/IPython/core/interactiveshell.py:2717: DtypeWarning: Columns (20) have mixed types. Specify dtype option on import or set low_memory=False.\n",
      "  interactivity=interactivity, compiler=compiler, result=result)\n"
     ]
    }
   ],
   "source": [
    "filenames_lst=[\"archaea_assembly_summary.txt\",\"bacteria_assembly_summary.txt\"]\n",
    "domains_lst=[\"archaea\",\"bacteria\"]\n",
    "\n",
    "dct_lst=[]\n",
    "for i,filename in enumerate(filenames_lst):\n",
    "    df=pd.read_csv(filename, delimiter='\\t',skiprows=1)\n",
    "    # refseqのカテゴリがrepresentativeかつcompleteなもののみを抽出する\n",
    "    filtered_df=df[(df[\"refseq_category\"]==\"representative genome\") & (df[\"assembly_level\"]==\"Complete Genome\")]\n",
    " \n",
    "    #taxidの重複を削除\n",
    "    taxids_set=set(filtered_df[\"taxid\"])\n",
    "        \n",
    "    for taxid in taxids_set:\n",
    "        dct={}\n",
    "        record=(filtered_df[filtered_df[\"taxid\"]==taxid]).iloc[0,:]#先頭のレコードのみを取得\n",
    "        \n",
    "        columns=[\"assembly_accession\",\"taxid\",\"organism_name\",\"asm_name\",\"ftp_path\"]#残すカラムを選択\n",
    "        for column in columns:\n",
    "            dct[column]=record[column]\n",
    "        dct[\"ftp_basename\"]=record[\"ftp_path\"].split('/')[-1]\n",
    "        #dct[\"ftp_basename\"]='_'.join(record[\"assembly_accession\"].split(' '))+'_'+'_'.join(record[\"asm_name\"].split(' '))\n",
    "        dct[\"domain\"]=domains_lst[i]\n",
    "        dct_lst.append(dct)"
   ]
  },
  {
   "cell_type": "code",
   "execution_count": 12,
   "metadata": {
    "collapsed": false
   },
   "outputs": [],
   "source": [
    "out_df=pd.DataFrame(dct_lst)\n",
    "out_df.head()\n",
    "out_df.to_csv(\"picked_assembly_summary.txt\",index=False)"
   ]
  },
  {
   "cell_type": "code",
   "execution_count": 6,
   "metadata": {
    "collapsed": false
   },
   "outputs": [],
   "source": [
    "out_df[\"ftp_basename2\"]=[ftp_path.split('/')[-1]  for ftp_path in out_df[\"ftp_path\"]]"
   ]
  },
  {
   "cell_type": "code",
   "execution_count": 7,
   "metadata": {
    "collapsed": false
   },
   "outputs": [
    {
     "data": {
      "text/html": [
       "<div>\n",
       "<table border=\"1\" class=\"dataframe\">\n",
       "  <thead>\n",
       "    <tr style=\"text-align: right;\">\n",
       "      <th></th>\n",
       "      <th>asm_name</th>\n",
       "      <th>assembly_accession</th>\n",
       "      <th>ftp_basename</th>\n",
       "      <th>ftp_path</th>\n",
       "      <th>organism_name</th>\n",
       "      <th>taxid</th>\n",
       "      <th>ftp_basename2</th>\n",
       "    </tr>\n",
       "  </thead>\n",
       "  <tbody>\n",
       "    <tr>\n",
       "      <th>0</th>\n",
       "      <td>ASM2238v1</td>\n",
       "      <td>GCF_000022385.1</td>\n",
       "      <td>GCF_000022385.1_ASM2238v1</td>\n",
       "      <td>ftp://ftp.ncbi.nlm.nih.gov/genomes/all/GCF/000...</td>\n",
       "      <td>Sulfolobus islandicus L.S.2.15</td>\n",
       "      <td>429572</td>\n",
       "      <td>GCF_000022385.1_ASM2238v1</td>\n",
       "    </tr>\n",
       "    <tr>\n",
       "      <th>1</th>\n",
       "      <td>ASM97008v1</td>\n",
       "      <td>GCF_000970085.1</td>\n",
       "      <td>GCF_000970085.1_ASM97008v1</td>\n",
       "      <td>ftp://ftp.ncbi.nlm.nih.gov/genomes/all/GCF/000...</td>\n",
       "      <td>Methanosarcina siciliae T4/M</td>\n",
       "      <td>1434120</td>\n",
       "      <td>GCF_000970085.1_ASM97008v1</td>\n",
       "    </tr>\n",
       "    <tr>\n",
       "      <th>2</th>\n",
       "      <td>ASM734v1</td>\n",
       "      <td>GCF_000007345.1</td>\n",
       "      <td>GCF_000007345.1_ASM734v1</td>\n",
       "      <td>ftp://ftp.ncbi.nlm.nih.gov/genomes/all/GCF/000...</td>\n",
       "      <td>Methanosarcina acetivorans C2A</td>\n",
       "      <td>188937</td>\n",
       "      <td>GCF_000007345.1_ASM734v1</td>\n",
       "    </tr>\n",
       "    <tr>\n",
       "      <th>3</th>\n",
       "      <td>ASM35030v1</td>\n",
       "      <td>GCF_000350305.1</td>\n",
       "      <td>GCF_000350305.1_ASM35030v1</td>\n",
       "      <td>ftp://ftp.ncbi.nlm.nih.gov/genomes/all/GCF/000...</td>\n",
       "      <td>Thermoplasmatales archaeon BRNA1</td>\n",
       "      <td>1054217</td>\n",
       "      <td>GCF_000350305.1_ASM35030v1</td>\n",
       "    </tr>\n",
       "    <tr>\n",
       "      <th>4</th>\n",
       "      <td>ASM96990v1</td>\n",
       "      <td>GCF_000969905.1</td>\n",
       "      <td>GCF_000969905.1_ASM96990v1</td>\n",
       "      <td>ftp://ftp.ncbi.nlm.nih.gov/genomes/all/GCF/000...</td>\n",
       "      <td>Methanosarcina vacuolata Z-761</td>\n",
       "      <td>1434123</td>\n",
       "      <td>GCF_000969905.1_ASM96990v1</td>\n",
       "    </tr>\n",
       "  </tbody>\n",
       "</table>\n",
       "</div>"
      ],
      "text/plain": [
       "     asm_name assembly_accession                ftp_basename  \\\n",
       "0   ASM2238v1    GCF_000022385.1   GCF_000022385.1_ASM2238v1   \n",
       "1  ASM97008v1    GCF_000970085.1  GCF_000970085.1_ASM97008v1   \n",
       "2    ASM734v1    GCF_000007345.1    GCF_000007345.1_ASM734v1   \n",
       "3  ASM35030v1    GCF_000350305.1  GCF_000350305.1_ASM35030v1   \n",
       "4  ASM96990v1    GCF_000969905.1  GCF_000969905.1_ASM96990v1   \n",
       "\n",
       "                                            ftp_path  \\\n",
       "0  ftp://ftp.ncbi.nlm.nih.gov/genomes/all/GCF/000...   \n",
       "1  ftp://ftp.ncbi.nlm.nih.gov/genomes/all/GCF/000...   \n",
       "2  ftp://ftp.ncbi.nlm.nih.gov/genomes/all/GCF/000...   \n",
       "3  ftp://ftp.ncbi.nlm.nih.gov/genomes/all/GCF/000...   \n",
       "4  ftp://ftp.ncbi.nlm.nih.gov/genomes/all/GCF/000...   \n",
       "\n",
       "                      organism_name    taxid               ftp_basename2  \n",
       "0    Sulfolobus islandicus L.S.2.15   429572   GCF_000022385.1_ASM2238v1  \n",
       "1      Methanosarcina siciliae T4/M  1434120  GCF_000970085.1_ASM97008v1  \n",
       "2    Methanosarcina acetivorans C2A   188937    GCF_000007345.1_ASM734v1  \n",
       "3  Thermoplasmatales archaeon BRNA1  1054217  GCF_000350305.1_ASM35030v1  \n",
       "4    Methanosarcina vacuolata Z-761  1434123  GCF_000969905.1_ASM96990v1  "
      ]
     },
     "execution_count": 7,
     "metadata": {},
     "output_type": "execute_result"
    }
   ],
   "source": [
    "out_df.head()"
   ]
  },
  {
   "cell_type": "code",
   "execution_count": 8,
   "metadata": {
    "collapsed": false
   },
   "outputs": [
    {
     "name": "stdout",
     "output_type": "stream",
     "text": [
      "GCF_000577895.1_M2/40\n"
     ]
    }
   ],
   "source": [
    "for i in range(out_df.shape[0]):\n",
    "    if out_df.loc[i,\"ftp_basename\"]!=out_df.loc[i,\"ftp_basename2\"]:\n",
    "        print(out_df.loc[i,\"ftp_basename\"])"
   ]
  },
  {
   "cell_type": "code",
   "execution_count": 70,
   "metadata": {
    "collapsed": false
   },
   "outputs": [
    {
     "data": {
      "text/plain": [
       "(1615, 6)"
      ]
     },
     "execution_count": 70,
     "metadata": {},
     "output_type": "execute_result"
    }
   ],
   "source": [
    "out_df.shape"
   ]
  },
  {
   "cell_type": "code",
   "execution_count": 59,
   "metadata": {
    "collapsed": false
   },
   "outputs": [
    {
     "data": {
      "text/plain": [
       "1615"
      ]
     },
     "execution_count": 59,
     "metadata": {},
     "output_type": "execute_result"
    }
   ],
   "source": [
    "len(ftpfilepaths_lst)"
   ]
  },
  {
   "cell_type": "code",
   "execution_count": 60,
   "metadata": {
    "collapsed": false
   },
   "outputs": [],
   "source": [
    "with open(\"ftpfilepaths\",'w') as f:\n",
    "    for path in ftpfilepaths_lst:\n",
    "        f.write(path)\n",
    "        f.write('\\n')"
   ]
  },
  {
   "cell_type": "code",
   "execution_count": 36,
   "metadata": {
    "collapsed": false
   },
   "outputs": [
    {
     "name": "stdout",
     "output_type": "stream",
     "text": [
      "(1471, 22)\n",
      "1468\n"
     ]
    }
   ],
   "source": [
    "filtered_df=df[(df[\"refseq_category\"]==\"representative genome\") & (df[\"assembly_level\"]==\"Complete Genome\")]\n",
    "print(filtered_df.shape)\n",
    "taxids_set=set(filtered_df[\"taxid\"])\n",
    "print(len(taxids_set))"
   ]
  },
  {
   "cell_type": "code",
   "execution_count": 34,
   "metadata": {
    "collapsed": false
   },
   "outputs": [],
   "source": [
    "for taxid in taxids_set:\n",
    "    if(sum(filtered_df[\"taxid\"]==taxid)>1):\n",
    "        print(taxid)"
   ]
  },
  {
   "cell_type": "code",
   "execution_count": 31,
   "metadata": {
    "collapsed": false
   },
   "outputs": [
    {
     "data": {
      "text/html": [
       "<div>\n",
       "<table border=\"1\" class=\"dataframe\">\n",
       "  <thead>\n",
       "    <tr style=\"text-align: right;\">\n",
       "      <th></th>\n",
       "      <th># assembly_accession</th>\n",
       "      <th>bioproject</th>\n",
       "      <th>biosample</th>\n",
       "      <th>wgs_master</th>\n",
       "      <th>refseq_category</th>\n",
       "      <th>taxid</th>\n",
       "      <th>species_taxid</th>\n",
       "      <th>organism_name</th>\n",
       "      <th>infraspecific_name</th>\n",
       "      <th>isolate</th>\n",
       "      <th>...</th>\n",
       "      <th>release_type</th>\n",
       "      <th>genome_rep</th>\n",
       "      <th>seq_rel_date</th>\n",
       "      <th>asm_name</th>\n",
       "      <th>submitter</th>\n",
       "      <th>gbrs_paired_asm</th>\n",
       "      <th>paired_asm_comp</th>\n",
       "      <th>ftp_path</th>\n",
       "      <th>excluded_from_refseq</th>\n",
       "      <th>relation_to_type_material</th>\n",
       "    </tr>\n",
       "  </thead>\n",
       "  <tbody>\n",
       "    <tr>\n",
       "      <th>5997</th>\n",
       "      <td>GCF_000219605.1</td>\n",
       "      <td>PRJNA224116</td>\n",
       "      <td>SAMN02603041</td>\n",
       "      <td>NaN</td>\n",
       "      <td>representative genome</td>\n",
       "      <td>316</td>\n",
       "      <td>316</td>\n",
       "      <td>Pseudomonas stutzeri</td>\n",
       "      <td>strain=CGMCC 1.1803</td>\n",
       "      <td>NaN</td>\n",
       "      <td>...</td>\n",
       "      <td>Major</td>\n",
       "      <td>Full</td>\n",
       "      <td>2011/06/29</td>\n",
       "      <td>ASM21960v1</td>\n",
       "      <td>Biotechnology Research Institute, Chinese Acad...</td>\n",
       "      <td>GCA_000219605.1</td>\n",
       "      <td>identical</td>\n",
       "      <td>ftp://ftp.ncbi.nlm.nih.gov/genomes/all/GCF/000...</td>\n",
       "      <td>NaN</td>\n",
       "      <td>assembly from type material</td>\n",
       "    </tr>\n",
       "    <tr>\n",
       "      <th>6010</th>\n",
       "      <td>GCF_000590475.1</td>\n",
       "      <td>PRJNA224116</td>\n",
       "      <td>SAMN02673421</td>\n",
       "      <td>NaN</td>\n",
       "      <td>representative genome</td>\n",
       "      <td>316</td>\n",
       "      <td>316</td>\n",
       "      <td>Pseudomonas stutzeri</td>\n",
       "      <td>strain=28a24</td>\n",
       "      <td>NaN</td>\n",
       "      <td>...</td>\n",
       "      <td>Major</td>\n",
       "      <td>Full</td>\n",
       "      <td>2014/03/12</td>\n",
       "      <td>ASM59047v1</td>\n",
       "      <td>University of Arizona</td>\n",
       "      <td>GCA_000590475.1</td>\n",
       "      <td>identical</td>\n",
       "      <td>ftp://ftp.ncbi.nlm.nih.gov/genomes/all/GCF/000...</td>\n",
       "      <td>NaN</td>\n",
       "      <td>NaN</td>\n",
       "    </tr>\n",
       "    <tr>\n",
       "      <th>49119</th>\n",
       "      <td>GCF_001606005.1</td>\n",
       "      <td>PRJNA224116</td>\n",
       "      <td>SAMN04569174</td>\n",
       "      <td>NaN</td>\n",
       "      <td>representative genome</td>\n",
       "      <td>1703</td>\n",
       "      <td>1703</td>\n",
       "      <td>Brevibacterium linens</td>\n",
       "      <td>strain=BS258</td>\n",
       "      <td>NaN</td>\n",
       "      <td>...</td>\n",
       "      <td>Major</td>\n",
       "      <td>Full</td>\n",
       "      <td>2016/04/04</td>\n",
       "      <td>ASM160600v1</td>\n",
       "      <td>Institute of Oceanology, Chinese Academy of Sc...</td>\n",
       "      <td>GCA_001606005.1</td>\n",
       "      <td>identical</td>\n",
       "      <td>ftp://ftp.ncbi.nlm.nih.gov/genomes/all/GCF/001...</td>\n",
       "      <td>NaN</td>\n",
       "      <td>NaN</td>\n",
       "    </tr>\n",
       "    <tr>\n",
       "      <th>49120</th>\n",
       "      <td>GCF_001729525.1</td>\n",
       "      <td>PRJNA224116</td>\n",
       "      <td>SAMN05714647</td>\n",
       "      <td>NaN</td>\n",
       "      <td>representative genome</td>\n",
       "      <td>1703</td>\n",
       "      <td>1703</td>\n",
       "      <td>Brevibacterium linens</td>\n",
       "      <td>strain=SMQ-1335</td>\n",
       "      <td>NaN</td>\n",
       "      <td>...</td>\n",
       "      <td>Major</td>\n",
       "      <td>Full</td>\n",
       "      <td>2016/09/16</td>\n",
       "      <td>ASM172952v1</td>\n",
       "      <td>Universite Laval</td>\n",
       "      <td>GCA_001729525.1</td>\n",
       "      <td>identical</td>\n",
       "      <td>ftp://ftp.ncbi.nlm.nih.gov/genomes/all/GCF/001...</td>\n",
       "      <td>NaN</td>\n",
       "      <td>NaN</td>\n",
       "    </tr>\n",
       "    <tr>\n",
       "      <th>72004</th>\n",
       "      <td>GCF_000754265.1</td>\n",
       "      <td>PRJNA224116</td>\n",
       "      <td>SAMN03290991</td>\n",
       "      <td>NaN</td>\n",
       "      <td>representative genome</td>\n",
       "      <td>186490</td>\n",
       "      <td>186490</td>\n",
       "      <td>Candidatus Baumannia cicadellinicola</td>\n",
       "      <td>strain=BGSS</td>\n",
       "      <td>NaN</td>\n",
       "      <td>...</td>\n",
       "      <td>Major</td>\n",
       "      <td>Full</td>\n",
       "      <td>2014/09/12</td>\n",
       "      <td>ASM75426v1</td>\n",
       "      <td>University of Texas at Austin</td>\n",
       "      <td>GCA_000754265.1</td>\n",
       "      <td>identical</td>\n",
       "      <td>ftp://ftp.ncbi.nlm.nih.gov/genomes/all/GCF/000...</td>\n",
       "      <td>NaN</td>\n",
       "      <td>NaN</td>\n",
       "    </tr>\n",
       "    <tr>\n",
       "      <th>72005</th>\n",
       "      <td>GCF_001269425.1</td>\n",
       "      <td>PRJNA224116</td>\n",
       "      <td>SAMN03757698</td>\n",
       "      <td>NaN</td>\n",
       "      <td>representative genome</td>\n",
       "      <td>186490</td>\n",
       "      <td>186490</td>\n",
       "      <td>Candidatus Baumannia cicadellinicola</td>\n",
       "      <td>strain=B-GSS</td>\n",
       "      <td>NaN</td>\n",
       "      <td>...</td>\n",
       "      <td>Major</td>\n",
       "      <td>Full</td>\n",
       "      <td>2015/08/18</td>\n",
       "      <td>ASM126942v1</td>\n",
       "      <td>University of Texas at Austin</td>\n",
       "      <td>GCA_001269425.1</td>\n",
       "      <td>identical</td>\n",
       "      <td>ftp://ftp.ncbi.nlm.nih.gov/genomes/all/GCF/001...</td>\n",
       "      <td>NaN</td>\n",
       "      <td>NaN</td>\n",
       "    </tr>\n",
       "  </tbody>\n",
       "</table>\n",
       "<p>6 rows × 22 columns</p>\n",
       "</div>"
      ],
      "text/plain": [
       "      # assembly_accession   bioproject     biosample wgs_master  \\\n",
       "5997       GCF_000219605.1  PRJNA224116  SAMN02603041        NaN   \n",
       "6010       GCF_000590475.1  PRJNA224116  SAMN02673421        NaN   \n",
       "49119      GCF_001606005.1  PRJNA224116  SAMN04569174        NaN   \n",
       "49120      GCF_001729525.1  PRJNA224116  SAMN05714647        NaN   \n",
       "72004      GCF_000754265.1  PRJNA224116  SAMN03290991        NaN   \n",
       "72005      GCF_001269425.1  PRJNA224116  SAMN03757698        NaN   \n",
       "\n",
       "             refseq_category   taxid  species_taxid  \\\n",
       "5997   representative genome     316            316   \n",
       "6010   representative genome     316            316   \n",
       "49119  representative genome    1703           1703   \n",
       "49120  representative genome    1703           1703   \n",
       "72004  representative genome  186490         186490   \n",
       "72005  representative genome  186490         186490   \n",
       "\n",
       "                              organism_name   infraspecific_name isolate  \\\n",
       "5997                   Pseudomonas stutzeri  strain=CGMCC 1.1803     NaN   \n",
       "6010                   Pseudomonas stutzeri         strain=28a24     NaN   \n",
       "49119                 Brevibacterium linens         strain=BS258     NaN   \n",
       "49120                 Brevibacterium linens      strain=SMQ-1335     NaN   \n",
       "72004  Candidatus Baumannia cicadellinicola          strain=BGSS     NaN   \n",
       "72005  Candidatus Baumannia cicadellinicola         strain=B-GSS     NaN   \n",
       "\n",
       "                  ...              release_type genome_rep seq_rel_date  \\\n",
       "5997              ...                     Major       Full   2011/06/29   \n",
       "6010              ...                     Major       Full   2014/03/12   \n",
       "49119             ...                     Major       Full   2016/04/04   \n",
       "49120             ...                     Major       Full   2016/09/16   \n",
       "72004             ...                     Major       Full   2014/09/12   \n",
       "72005             ...                     Major       Full   2015/08/18   \n",
       "\n",
       "          asm_name                                          submitter  \\\n",
       "5997    ASM21960v1  Biotechnology Research Institute, Chinese Acad...   \n",
       "6010    ASM59047v1                              University of Arizona   \n",
       "49119  ASM160600v1  Institute of Oceanology, Chinese Academy of Sc...   \n",
       "49120  ASM172952v1                                   Universite Laval   \n",
       "72004   ASM75426v1                      University of Texas at Austin   \n",
       "72005  ASM126942v1                      University of Texas at Austin   \n",
       "\n",
       "       gbrs_paired_asm paired_asm_comp  \\\n",
       "5997   GCA_000219605.1       identical   \n",
       "6010   GCA_000590475.1       identical   \n",
       "49119  GCA_001606005.1       identical   \n",
       "49120  GCA_001729525.1       identical   \n",
       "72004  GCA_000754265.1       identical   \n",
       "72005  GCA_001269425.1       identical   \n",
       "\n",
       "                                                ftp_path excluded_from_refseq  \\\n",
       "5997   ftp://ftp.ncbi.nlm.nih.gov/genomes/all/GCF/000...                  NaN   \n",
       "6010   ftp://ftp.ncbi.nlm.nih.gov/genomes/all/GCF/000...                  NaN   \n",
       "49119  ftp://ftp.ncbi.nlm.nih.gov/genomes/all/GCF/001...                  NaN   \n",
       "49120  ftp://ftp.ncbi.nlm.nih.gov/genomes/all/GCF/001...                  NaN   \n",
       "72004  ftp://ftp.ncbi.nlm.nih.gov/genomes/all/GCF/000...                  NaN   \n",
       "72005  ftp://ftp.ncbi.nlm.nih.gov/genomes/all/GCF/001...                  NaN   \n",
       "\n",
       "         relation_to_type_material  \n",
       "5997   assembly from type material  \n",
       "6010                           NaN  \n",
       "49119                          NaN  \n",
       "49120                          NaN  \n",
       "72004                          NaN  \n",
       "72005                          NaN  \n",
       "\n",
       "[6 rows x 22 columns]"
      ]
     },
     "execution_count": 31,
     "metadata": {},
     "output_type": "execute_result"
    }
   ],
   "source": [
    "filtered_df[filtered_df[\"taxid\"].isin([316,1703,186490])]"
   ]
  },
  {
   "cell_type": "code",
   "execution_count": 42,
   "metadata": {
    "collapsed": false
   },
   "outputs": [],
   "source": [
    "out_lst=[]\n",
    "for taxid in taxids_set:\n",
    "    record=(filtered_df[filtered_df[\"taxid\"]==taxid]).iloc[0,:]\n",
    "    arg1=record[\"# assembly_accession\"]\n",
    "    arg1='_'.join(arg1.split(' '))\n",
    "    arg2=record[\"asm_name\"]\n",
    "    arg2='_'.join(arg2.split(' ')\n",
    "    out_lst.append(record[\"ftp_path\"]+'/'+arg1+'_'+arg2+\"_genomic.fna.gz\")"
   ]
  },
  {
   "cell_type": "code",
   "execution_count": 43,
   "metadata": {
    "collapsed": false
   },
   "outputs": [
    {
     "data": {
      "text/plain": [
       "'ftp://ftp.ncbi.nlm.nih.gov/genomes/all/GCF/000/284/015/GCF_000284015.1_ASM28401v1/GCF_000284015.1_ASM28401v1_genomic.fna.gz'"
      ]
     },
     "execution_count": 43,
     "metadata": {},
     "output_type": "execute_result"
    }
   ],
   "source": [
    "out_lst[0]"
   ]
  },
  {
   "cell_type": "code",
   "execution_count": 45,
   "metadata": {
    "collapsed": false
   },
   "outputs": [
    {
     "data": {
      "text/plain": [
       "1468"
      ]
     },
     "execution_count": 45,
     "metadata": {},
     "output_type": "execute_result"
    }
   ],
   "source": [
    "len(out_lst)"
   ]
  },
  {
   "cell_type": "code",
   "execution_count": null,
   "metadata": {
    "collapsed": true
   },
   "outputs": [],
   "source": []
  }
 ],
 "metadata": {
  "kernelspec": {
   "display_name": "Python 3",
   "language": "python",
   "name": "python3"
  },
  "language_info": {
   "codemirror_mode": {
    "name": "ipython",
    "version": 3
   },
   "file_extension": ".py",
   "mimetype": "text/x-python",
   "name": "python",
   "nbconvert_exporter": "python",
   "pygments_lexer": "ipython3",
   "version": "3.6.0"
  }
 },
 "nbformat": 4,
 "nbformat_minor": 2
}
